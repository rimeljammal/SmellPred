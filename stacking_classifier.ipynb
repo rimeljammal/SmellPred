{
  "nbformat": 4,
  "nbformat_minor": 0,
  "metadata": {
    "colab": {
      "provenance": []
    },
    "kernelspec": {
      "name": "python3",
      "display_name": "Python 3"
    },
    "language_info": {
      "name": "python"
    },
    "widgets": {
      "application/vnd.jupyter.widget-state+json": {
        "f2ec3f19001a4928b0ad5ad856c7793a": {
          "model_module": "@jupyter-widgets/controls",
          "model_name": "HBoxModel",
          "model_module_version": "1.5.0",
          "state": {
            "_dom_classes": [],
            "_model_module": "@jupyter-widgets/controls",
            "_model_module_version": "1.5.0",
            "_model_name": "HBoxModel",
            "_view_count": null,
            "_view_module": "@jupyter-widgets/controls",
            "_view_module_version": "1.5.0",
            "_view_name": "HBoxView",
            "box_style": "",
            "children": [
              "IPY_MODEL_0a4cc83ca8494560857dbd433dc8818f",
              "IPY_MODEL_8fa34375ebc440cdbe3c80154050f566",
              "IPY_MODEL_1527bc0d0e814fd182c70848f4eb6b97"
            ],
            "layout": "IPY_MODEL_35668a0a706b4625b97082844e0d32ec"
          }
        },
        "0a4cc83ca8494560857dbd433dc8818f": {
          "model_module": "@jupyter-widgets/controls",
          "model_name": "HTMLModel",
          "model_module_version": "1.5.0",
          "state": {
            "_dom_classes": [],
            "_model_module": "@jupyter-widgets/controls",
            "_model_module_version": "1.5.0",
            "_model_name": "HTMLModel",
            "_view_count": null,
            "_view_module": "@jupyter-widgets/controls",
            "_view_module_version": "1.5.0",
            "_view_name": "HTMLView",
            "description": "",
            "description_tooltip": null,
            "layout": "IPY_MODEL_2f85969abe1b4f51a00f3c894a65029b",
            "placeholder": "​",
            "style": "IPY_MODEL_2f3e61778dfc4fabb136fbd1579c65bf",
            "value": "Processing: 100%"
          }
        },
        "8fa34375ebc440cdbe3c80154050f566": {
          "model_module": "@jupyter-widgets/controls",
          "model_name": "FloatProgressModel",
          "model_module_version": "1.5.0",
          "state": {
            "_dom_classes": [],
            "_model_module": "@jupyter-widgets/controls",
            "_model_module_version": "1.5.0",
            "_model_name": "FloatProgressModel",
            "_view_count": null,
            "_view_module": "@jupyter-widgets/controls",
            "_view_module_version": "1.5.0",
            "_view_name": "ProgressView",
            "bar_style": "",
            "description": "",
            "description_tooltip": null,
            "layout": "IPY_MODEL_e43a7f9258e44015ba4e4d609c55e01c",
            "max": 69,
            "min": 0,
            "orientation": "horizontal",
            "style": "IPY_MODEL_fa283c97d92d47a5950f4aa257b8c1b3",
            "value": 69
          }
        },
        "1527bc0d0e814fd182c70848f4eb6b97": {
          "model_module": "@jupyter-widgets/controls",
          "model_name": "HTMLModel",
          "model_module_version": "1.5.0",
          "state": {
            "_dom_classes": [],
            "_model_module": "@jupyter-widgets/controls",
            "_model_module_version": "1.5.0",
            "_model_name": "HTMLModel",
            "_view_count": null,
            "_view_module": "@jupyter-widgets/controls",
            "_view_module_version": "1.5.0",
            "_view_name": "HTMLView",
            "description": "",
            "description_tooltip": null,
            "layout": "IPY_MODEL_710454fc45b643348dac27c762787f12",
            "placeholder": "​",
            "style": "IPY_MODEL_2236620c9e0c4cd8aeaf36172543f3f4",
            "value": " 69/69 [02:25&lt;00:00,  1.75s/it]"
          }
        },
        "35668a0a706b4625b97082844e0d32ec": {
          "model_module": "@jupyter-widgets/base",
          "model_name": "LayoutModel",
          "model_module_version": "1.2.0",
          "state": {
            "_model_module": "@jupyter-widgets/base",
            "_model_module_version": "1.2.0",
            "_model_name": "LayoutModel",
            "_view_count": null,
            "_view_module": "@jupyter-widgets/base",
            "_view_module_version": "1.2.0",
            "_view_name": "LayoutView",
            "align_content": null,
            "align_items": null,
            "align_self": null,
            "border": null,
            "bottom": null,
            "display": null,
            "flex": null,
            "flex_flow": null,
            "grid_area": null,
            "grid_auto_columns": null,
            "grid_auto_flow": null,
            "grid_auto_rows": null,
            "grid_column": null,
            "grid_gap": null,
            "grid_row": null,
            "grid_template_areas": null,
            "grid_template_columns": null,
            "grid_template_rows": null,
            "height": null,
            "justify_content": null,
            "justify_items": null,
            "left": null,
            "margin": null,
            "max_height": null,
            "max_width": null,
            "min_height": null,
            "min_width": null,
            "object_fit": null,
            "object_position": null,
            "order": null,
            "overflow": null,
            "overflow_x": null,
            "overflow_y": null,
            "padding": null,
            "right": null,
            "top": null,
            "visibility": "hidden",
            "width": null
          }
        },
        "2f85969abe1b4f51a00f3c894a65029b": {
          "model_module": "@jupyter-widgets/base",
          "model_name": "LayoutModel",
          "model_module_version": "1.2.0",
          "state": {
            "_model_module": "@jupyter-widgets/base",
            "_model_module_version": "1.2.0",
            "_model_name": "LayoutModel",
            "_view_count": null,
            "_view_module": "@jupyter-widgets/base",
            "_view_module_version": "1.2.0",
            "_view_name": "LayoutView",
            "align_content": null,
            "align_items": null,
            "align_self": null,
            "border": null,
            "bottom": null,
            "display": null,
            "flex": null,
            "flex_flow": null,
            "grid_area": null,
            "grid_auto_columns": null,
            "grid_auto_flow": null,
            "grid_auto_rows": null,
            "grid_column": null,
            "grid_gap": null,
            "grid_row": null,
            "grid_template_areas": null,
            "grid_template_columns": null,
            "grid_template_rows": null,
            "height": null,
            "justify_content": null,
            "justify_items": null,
            "left": null,
            "margin": null,
            "max_height": null,
            "max_width": null,
            "min_height": null,
            "min_width": null,
            "object_fit": null,
            "object_position": null,
            "order": null,
            "overflow": null,
            "overflow_x": null,
            "overflow_y": null,
            "padding": null,
            "right": null,
            "top": null,
            "visibility": null,
            "width": null
          }
        },
        "2f3e61778dfc4fabb136fbd1579c65bf": {
          "model_module": "@jupyter-widgets/controls",
          "model_name": "DescriptionStyleModel",
          "model_module_version": "1.5.0",
          "state": {
            "_model_module": "@jupyter-widgets/controls",
            "_model_module_version": "1.5.0",
            "_model_name": "DescriptionStyleModel",
            "_view_count": null,
            "_view_module": "@jupyter-widgets/base",
            "_view_module_version": "1.2.0",
            "_view_name": "StyleView",
            "description_width": ""
          }
        },
        "e43a7f9258e44015ba4e4d609c55e01c": {
          "model_module": "@jupyter-widgets/base",
          "model_name": "LayoutModel",
          "model_module_version": "1.2.0",
          "state": {
            "_model_module": "@jupyter-widgets/base",
            "_model_module_version": "1.2.0",
            "_model_name": "LayoutModel",
            "_view_count": null,
            "_view_module": "@jupyter-widgets/base",
            "_view_module_version": "1.2.0",
            "_view_name": "LayoutView",
            "align_content": null,
            "align_items": null,
            "align_self": null,
            "border": null,
            "bottom": null,
            "display": null,
            "flex": null,
            "flex_flow": null,
            "grid_area": null,
            "grid_auto_columns": null,
            "grid_auto_flow": null,
            "grid_auto_rows": null,
            "grid_column": null,
            "grid_gap": null,
            "grid_row": null,
            "grid_template_areas": null,
            "grid_template_columns": null,
            "grid_template_rows": null,
            "height": null,
            "justify_content": null,
            "justify_items": null,
            "left": null,
            "margin": null,
            "max_height": null,
            "max_width": null,
            "min_height": null,
            "min_width": null,
            "object_fit": null,
            "object_position": null,
            "order": null,
            "overflow": null,
            "overflow_x": null,
            "overflow_y": null,
            "padding": null,
            "right": null,
            "top": null,
            "visibility": null,
            "width": null
          }
        },
        "fa283c97d92d47a5950f4aa257b8c1b3": {
          "model_module": "@jupyter-widgets/controls",
          "model_name": "ProgressStyleModel",
          "model_module_version": "1.5.0",
          "state": {
            "_model_module": "@jupyter-widgets/controls",
            "_model_module_version": "1.5.0",
            "_model_name": "ProgressStyleModel",
            "_view_count": null,
            "_view_module": "@jupyter-widgets/base",
            "_view_module_version": "1.2.0",
            "_view_name": "StyleView",
            "bar_color": null,
            "description_width": ""
          }
        },
        "710454fc45b643348dac27c762787f12": {
          "model_module": "@jupyter-widgets/base",
          "model_name": "LayoutModel",
          "model_module_version": "1.2.0",
          "state": {
            "_model_module": "@jupyter-widgets/base",
            "_model_module_version": "1.2.0",
            "_model_name": "LayoutModel",
            "_view_count": null,
            "_view_module": "@jupyter-widgets/base",
            "_view_module_version": "1.2.0",
            "_view_name": "LayoutView",
            "align_content": null,
            "align_items": null,
            "align_self": null,
            "border": null,
            "bottom": null,
            "display": null,
            "flex": null,
            "flex_flow": null,
            "grid_area": null,
            "grid_auto_columns": null,
            "grid_auto_flow": null,
            "grid_auto_rows": null,
            "grid_column": null,
            "grid_gap": null,
            "grid_row": null,
            "grid_template_areas": null,
            "grid_template_columns": null,
            "grid_template_rows": null,
            "height": null,
            "justify_content": null,
            "justify_items": null,
            "left": null,
            "margin": null,
            "max_height": null,
            "max_width": null,
            "min_height": null,
            "min_width": null,
            "object_fit": null,
            "object_position": null,
            "order": null,
            "overflow": null,
            "overflow_x": null,
            "overflow_y": null,
            "padding": null,
            "right": null,
            "top": null,
            "visibility": null,
            "width": null
          }
        },
        "2236620c9e0c4cd8aeaf36172543f3f4": {
          "model_module": "@jupyter-widgets/controls",
          "model_name": "DescriptionStyleModel",
          "model_module_version": "1.5.0",
          "state": {
            "_model_module": "@jupyter-widgets/controls",
            "_model_module_version": "1.5.0",
            "_model_name": "DescriptionStyleModel",
            "_view_count": null,
            "_view_module": "@jupyter-widgets/base",
            "_view_module_version": "1.2.0",
            "_view_name": "StyleView",
            "description_width": ""
          }
        }
      }
    }
  },
  "cells": [
    {
      "cell_type": "markdown",
      "source": [
        "# Import packages"
      ],
      "metadata": {
        "id": "gjy4yMe9Onlp"
      }
    },
    {
      "cell_type": "code",
      "execution_count": 1,
      "metadata": {
        "id": "-GqLfkBff5kH"
      },
      "outputs": [],
      "source": [
        "from sklearn.datasets import load_iris\n",
        "from sklearn.ensemble import RandomForestClassifier\n",
        "from sklearn.svm import LinearSVC\n",
        "from sklearn.linear_model import LogisticRegression\n",
        "from sklearn.preprocessing import StandardScaler\n",
        "from sklearn.ensemble import StackingClassifier, ExtraTreesClassifier, GradientBoostingClassifier, VotingClassifier\n",
        "from sklearn.tree import DecisionTreeClassifier\n",
        "from sklearn.svm import SVC\n",
        "from sklearn.naive_bayes import GaussianNB\n",
        "from sklearn.naive_bayes import MultinomialNB\n",
        "from sklearn.naive_bayes import BernoulliNB\n",
        "from sklearn.linear_model import LinearRegression\n",
        "from sklearn.model_selection import cross_val_score, StratifiedKFold\n",
        "from sklearn.neural_network import MLPClassifier\n",
        "from sklearn.linear_model import SGDClassifier\n",
        "from sklearn.gaussian_process import GaussianProcessClassifier\n",
        "from sklearn.neighbors import KNeighborsClassifier\n",
        "from sklearn.ensemble import ExtraTreesClassifier\n",
        "from sklearn.metrics import f1_score, matthews_corrcoef, balanced_accuracy_score, recall_score, precision_score, accuracy_score, roc_auc_score\n",
        "\n",
        "from sklearn.discriminant_analysis import LinearDiscriminantAnalysis\n",
        "from lightgbm import LGBMClassifier\n",
        "import pandas as pd\n",
        "import lightgbm as lgb\n",
        "import numpy as np\n",
        "from sklearn.model_selection import train_test_split\n",
        "from hyperopt import hp, fmin, tpe, STATUS_OK, Trials"
      ]
    },
    {
      "cell_type": "markdown",
      "source": [
        "# ML Feature engineering"
      ],
      "metadata": {
        "id": "RkitnzSTQP-4"
      }
    },
    {
      "cell_type": "code",
      "source": [
        "# Remove irrelevant features and select important features\n",
        "def Feature_Importance(df):\n",
        "  print('Step: Running Feature_Importance')\n",
        "  labels = df['fe'].values\n",
        "  features = df.drop(['fe'],axis=1).values\n",
        "  feature_names = list(df.drop(['fe'],axis=1).columns)\n",
        "  # labels = df['is_long_method'].values\n",
        "  # features = df.drop(['is_long_method'], axis='columns').values\n",
        "  # feature_names = list(df.drop(['is_long_method'], axis='columns').columns)\n",
        "  print(feature_names)\n",
        "\n",
        "  model = lgb.LGBMRegressor(verbose = -1)\n",
        "  model.fit(features, labels)\n",
        "\n",
        "  feature_importances = pd.DataFrame({'feature': feature_names, 'importance': model.feature_importances_})\n",
        "  feature_importances = feature_importances.sort_values('importance', ascending = False).reset_index(drop = True)\n",
        "\n",
        "  # Normalize & sort\n",
        "  feature_importances['normalized_importance'] = feature_importances['importance'] / feature_importances['importance'].sum()\n",
        "  feature_importances['cumulative_importance'] = np.cumsum(feature_importances['normalized_importance'])\n",
        "  feature_importances = feature_importances.sort_values('cumulative_importance')\n",
        "\n",
        "  # Only keep important features with cumulative importance scores >= 90%\n",
        "  cumulative_importance=0.90\n",
        "  record_low_importance = feature_importances[feature_importances['cumulative_importance'] > cumulative_importance]\n",
        "  to_drop = list(record_low_importance['feature'])\n",
        "  print('Step: Finishing Feature_Importance, features to drop:', to_drop)\n",
        "  return to_drop"
      ],
      "metadata": {
        "id": "ESl0UgbUQTtQ"
      },
      "execution_count": 2,
      "outputs": []
    },
    {
      "cell_type": "code",
      "source": [
        "# Remove redundant features\n",
        "def Feature_Redundancy_Pearson(df):\n",
        "  print('Step: Running Feature_Redundancy_Pearson')\n",
        "  # Remove features with the redundancy > 99%\n",
        "  correlation_threshold=0.95\n",
        "  features = df.drop(['fe'],axis=1)\n",
        "  # features = df.drop(['is_long_method'], axis='columns')\n",
        "  corr_matrix = features.corr().abs()\n",
        "\n",
        "  # Extract the upper triangle of the correlation matrix\n",
        "  upper = corr_matrix.where(np.triu(np.ones(corr_matrix.shape), k = 1).astype(bool))\n",
        "\n",
        "  # Find columns with correlation greater than 0.9\n",
        "  to_drop = [column for column in upper.columns if any(upper[column] > correlation_threshold)]\n",
        "  print('Step: Finishing Feature_Redundancy_Pearson, features to drop:', to_drop)\n",
        "  return to_drop"
      ],
      "metadata": {
        "id": "ztRQeCgoQV7a"
      },
      "execution_count": 7,
      "outputs": []
    },
    {
      "cell_type": "code",
      "source": [
        "# Perform feature engineering\n",
        "def Auto_Feature_Engineering(df):\n",
        "    print('Step: Running Auto_Feature_Engineering')\n",
        "    dropped_features = Feature_Importance(df)\n",
        "    # print(dropped_features)\n",
        "    df = df.drop(columns = dropped_features)\n",
        "\n",
        "    dropped_features = Feature_Redundancy_Pearson(df)\n",
        "    # print(dropped_features)\n",
        "    df = df.drop(columns = dropped_features)\n",
        "    print('Step: Finishing Auto_Feature_Engineering')\n",
        "    return df"
      ],
      "metadata": {
        "id": "3hBP1BlYQZWk"
      },
      "execution_count": 8,
      "outputs": []
    },
    {
      "cell_type": "markdown",
      "source": [
        "# Data preparation"
      ],
      "metadata": {
        "id": "FWWvuFA6ZdPX"
      }
    },
    {
      "cell_type": "code",
      "source": [
        "df = pd.read_csv('/content/defects_smells.csv')\n",
        "df = df.iloc[:,11:] # remove first 11 columns\n",
        "df = df.iloc[:,:-14] # remove all labels except fe\n",
        "df = Auto_Feature_Engineering(df)\n",
        "print(df.columns)\n",
        "print(df.head())"
      ],
      "metadata": {
        "colab": {
          "base_uri": "https://localhost:8080/"
        },
        "id": "4DWKoGNJZf0z",
        "outputId": "cb1803d2-6214-420d-8841-055ddf69ebc0"
      },
      "execution_count": 9,
      "outputs": [
        {
          "output_type": "stream",
          "name": "stdout",
          "text": [
            "Step: Running Auto_Feature_Engineering\n",
            "Step: Running Feature_Importance\n",
            "['CC', 'CCL', 'CCO', 'CI', 'CLC', 'CLLC', 'LDC', 'LLDC', 'LCOM5', 'NL', 'NLE', 'WMC', 'CBO', 'CBOI', 'NII', 'NOI', 'RFC', 'AD', 'CD', 'CLOC', 'DLOC', 'PDA', 'PUA', 'TCD', 'TCLOC', 'DIT', 'NOA', 'NOC', 'NOD', 'NOP', 'LLOC', 'LOC', 'NA', 'NG', 'NLA', 'NLG', 'NLM', 'NLPA', 'NLPM', 'NLS', 'NM', 'NOS', 'NPA', 'NPM', 'NS', 'TLLOC', 'TLOC', 'TNA', 'TNG', 'TNLA', 'TNLG', 'TNLM', 'TNLPA', 'TNLPM', 'TNLS', 'TNM', 'TNOS', 'TNPA', 'TNPM', 'TNS']\n",
            "Step: Finishing Feature_Importance, features to drop: ['NOA', 'NOC', 'PDA', 'LDC', 'TCLOC', 'LLDC', 'CCO', 'TNLS', 'TNLG', 'NOP', 'TNS', 'NLPA', 'TNLPA', 'NOD', 'CCL', 'CI']\n",
            "Step: Running Feature_Redundancy_Pearson\n",
            "Step: Finishing Feature_Redundancy_Pearson, features to drop: ['CLC', 'CLLC', 'TCD', 'NOS', 'NPA', 'TLLOC', 'TLOC', 'TNA', 'TNLA', 'TNOS', 'TNPA']\n",
            "Step: Finishing Auto_Feature_Engineering\n",
            "Index(['CC', 'LCOM5', 'NL', 'NLE', 'WMC', 'CBO', 'CBOI', 'NII', 'NOI', 'RFC',\n",
            "       'AD', 'CD', 'CLOC', 'DLOC', 'PUA', 'DIT', 'LLOC', 'LOC', 'NA', 'NG',\n",
            "       'NLA', 'NLG', 'NLM', 'NLPM', 'NLS', 'NM', 'NPM', 'NS', 'TNG', 'TNLM',\n",
            "       'TNLPM', 'TNM', 'TNPM', 'fe'],\n",
            "      dtype='object')\n",
            "         CC  LCOM5  NL  NLE  WMC  CBO  CBOI  NII  NOI  RFC  ...  NLS  NM  NPM  \\\n",
            "0  0.075055      1   5    5   49    2    10   11    4   19  ...    1  15    9   \n",
            "1  0.000000      0   0    0   11    3    16   28    3   14  ...    2  11   11   \n",
            "2  0.000000      1   1    1   16    1   183  279    1   15  ...    1  14   14   \n",
            "3  0.000000      0   0    0    7    1    14    7    0    7  ...    0   7    7   \n",
            "4  0.000000      0   0    0    4    1     2    1    0    4  ...    4  11   11   \n",
            "\n",
            "   NS  TNG  TNLM  TNLPM  TNM  TNPM  fe  \n",
            "0   1    4    15      9   15     9   0  \n",
            "1   2    6    11     11   11    11   0  \n",
            "2   1    2    14     14   14    14   0  \n",
            "3   0    0     7      7    7     7   0  \n",
            "4   4    0     4      4   11    11   0  \n",
            "\n",
            "[5 rows x 34 columns]\n"
          ]
        }
      ]
    },
    {
      "cell_type": "markdown",
      "source": [
        "# Read and split data"
      ],
      "metadata": {
        "id": "zPT6jH-Xf46Y"
      }
    },
    {
      "cell_type": "code",
      "source": [
        "X, y = df.drop(['fe'],axis=1), df['fe']\n",
        "# X, y = df.drop(['is_long_method'], axis=1), df['is_long_method']\n",
        "Xtrain, Xtest, ytrain, ytest = train_test_split(X,y, train_size = 0.3, shuffle=True,random_state = 42, stratify=y)"
      ],
      "metadata": {
        "id": "_vORlzKEp8CS"
      },
      "execution_count": 10,
      "outputs": []
    },
    {
      "cell_type": "markdown",
      "source": [
        "# Techniques"
      ],
      "metadata": {
        "id": "cvbGxgikkvcC"
      }
    },
    {
      "cell_type": "markdown",
      "source": [
        "## Random forest params"
      ],
      "metadata": {
        "id": "b8DswCkhtVAA"
      }
    },
    {
      "cell_type": "code",
      "source": [
        "# Define the objective function\n",
        "def objective(params):\n",
        "    params = {\n",
        "        \"n_estimators\": int(params['n_estimators']),\n",
        "        \"max_depth\": int(params['max_depth']),\n",
        "        \"max_features\": int(params['max_features']),\n",
        "        \"min_samples_split\":int(params['min_samples_split']),\n",
        "        \"min_samples_leaf\":int(params['min_samples_leaf']),\n",
        "        \"criterion\":str(params['criterion'])\n",
        "    }\n",
        "    model = RandomForestClassifier( **params)\n",
        "    mcc = cross_val_score(model, Xtrain, ytrain, scoring='matthews_corrcoef', cv=StratifiedKFold(n_splits=3)).mean()\n",
        "    return {'loss':-mcc, 'status': STATUS_OK }\n",
        "\n",
        "# Define the hyperparameter configuration space\n",
        "space = {\n",
        "    \"n_estimators\": hp.quniform('n_estimators', 10, 100, 1),\n",
        "    \"max_depth\": hp.quniform('max_depth', 5, 50, 1),\n",
        "    \"max_features\":hp.quniform('max_features', 1, 64, 1),\n",
        "    \"min_samples_split\":hp.quniform('min_samples_split',2,11,1),\n",
        "    \"min_samples_leaf\":hp.quniform('min_samples_leaf',1,11,1),\n",
        "    \"criterion\":hp.choice('criterion',['gini','entropy'])\n",
        "}\n",
        "\n",
        "best = fmin(fn=objective,\n",
        "            space=space,\n",
        "            algo=tpe.suggest,\n",
        "            max_evals=20)\n",
        "print(\"RF: Hyperopt estimated optimum {}\".format(best))"
      ],
      "metadata": {
        "colab": {
          "base_uri": "https://localhost:8080/"
        },
        "id": "BhzyRDPIjlYU",
        "outputId": "2a9a1ccc-c0c6-460f-fc3b-e88adda5c41e"
      },
      "execution_count": 11,
      "outputs": [
        {
          "output_type": "stream",
          "name": "stdout",
          "text": [
            "100%|██████████| 20/20 [01:42<00:00,  5.14s/trial, best loss: -0.6571828012529234]\n",
            "RF: Hyperopt estimated optimum {'criterion': 0, 'max_depth': 26.0, 'max_features': 19.0, 'min_samples_leaf': 2.0, 'min_samples_split': 5.0, 'n_estimators': 79.0}\n"
          ]
        }
      ]
    },
    {
      "cell_type": "code",
      "source": [
        "criterion = {0: 'gini', 1: 'entropy'}\n",
        "trainedRF = RandomForestClassifier(criterion = criterion[best['criterion']],max_depth = int(best['max_depth']), max_features = int(best['max_features']),\n",
        "                                   n_estimators = int(best['n_estimators']), min_samples_leaf = int(best['min_samples_leaf']), min_samples_split = int(best['min_samples_split'])\n",
        "                                   ).fit(Xtrain, ytrain)\n",
        "y_pred = trainedRF.predict(Xtest)\n",
        "\n",
        "f1 = f1_score(ytest, y_pred)\n",
        "mcc = matthews_corrcoef(ytest, y_pred)\n",
        "recall = recall_score(ytest, y_pred)\n",
        "precision = precision_score(ytest, y_pred)\n",
        "accuracy = accuracy_score(ytest, y_pred)\n",
        "auc = roc_auc_score(ytest, y_pred)\n",
        "balanced_accuracy = balanced_accuracy_score(ytest, y_pred)\n",
        "\n",
        "print(f\"F1 score: {f1}\")\n",
        "print(f\"MCC: {mcc}\")\n",
        "print(f\"Recall: {recall}\")\n",
        "print(f\"Precision: {precision}\")\n",
        "print(f\"Accuracy: {accuracy}\")\n",
        "print(f\"AUC: {auc}\")\n",
        "print(f\"Balanced Accuracy: {balanced_accuracy}\")"
      ],
      "metadata": {
        "colab": {
          "base_uri": "https://localhost:8080/"
        },
        "id": "xYWUI3mIgRPz",
        "outputId": "5b842e98-3480-4956-cef7-0ea00a2a726b"
      },
      "execution_count": 12,
      "outputs": [
        {
          "output_type": "stream",
          "name": "stdout",
          "text": [
            "F1 score: 0.7950778503264692\n",
            "MCC: 0.7084318237375808\n",
            "Recall: 0.7788437884378844\n",
            "Precision: 0.8120030777122339\n",
            "Accuracy: 0.8778443113772455\n",
            "AUC: 0.8499920932506798\n",
            "Balanced Accuracy: 0.8499920932506797\n"
          ]
        }
      ]
    },
    {
      "cell_type": "markdown",
      "source": [
        "## Extra trees classifier"
      ],
      "metadata": {
        "id": "3WdpX0d1cfFZ"
      }
    },
    {
      "cell_type": "code",
      "source": [
        "# Define the objective function\n",
        "def objective(params):\n",
        "    params = {\n",
        "        \"n_estimators\": int(params['n_estimators']),\n",
        "        \"max_depth\": int(params['max_depth']),\n",
        "        \"max_features\": int(params['max_features']),\n",
        "        \"min_samples_split\":int(params['min_samples_split']),\n",
        "        \"min_samples_leaf\":int(params['min_samples_leaf']),\n",
        "        \"criterion\":str(params['criterion'])\n",
        "    }\n",
        "    model = ExtraTreesClassifier( **params)\n",
        "    mcc = cross_val_score(model, Xtrain, ytrain, scoring='matthews_corrcoef', cv=StratifiedKFold(n_splits=3)).mean()\n",
        "    return {'loss':-mcc, 'status': STATUS_OK }\n",
        "\n",
        "best_ET_models = []\n",
        "for i in range(5):\n",
        "  # Define the hyperparameter configuration space\n",
        "  space = {\n",
        "      \"n_estimators\": hp.quniform('n_estimators', 10, 100, 1),\n",
        "      \"max_depth\": hp.quniform('max_depth', 5, 50, 1),\n",
        "      \"max_features\":hp.quniform('max_features', 1, 64, 1),\n",
        "      \"min_samples_split\":hp.quniform('min_samples_split',2,11,1),\n",
        "      \"min_samples_leaf\":hp.quniform('min_samples_leaf',1,11,1),\n",
        "      \"criterion\":hp.choice('criterion',['gini','entropy'])\n",
        "  }\n",
        "\n",
        "  best = fmin(fn=objective,\n",
        "              space=space,\n",
        "              algo=tpe.suggest,\n",
        "              max_evals=60)\n",
        "  best_ET_models.append(best)\n",
        "  print(\"RF: Hyperopt estimated optimum {}\".format(best))\n",
        "\n",
        "print(best_ET_models)"
      ],
      "metadata": {
        "colab": {
          "base_uri": "https://localhost:8080/"
        },
        "id": "9ukV4Jt9cewc",
        "outputId": "7cc53657-dc14-4ac3-c447-e67a5af204a9"
      },
      "execution_count": 13,
      "outputs": [
        {
          "output_type": "stream",
          "name": "stdout",
          "text": [
            "100%|██████████| 60/60 [01:56<00:00,  1.95s/trial, best loss: -0.6608833725248277]\n",
            "RF: Hyperopt estimated optimum {'criterion': 1, 'max_depth': 29.0, 'max_features': 33.0, 'min_samples_leaf': 3.0, 'min_samples_split': 5.0, 'n_estimators': 74.0}\n",
            "100%|██████████| 60/60 [01:59<00:00,  1.99s/trial, best loss: -0.6623925279393786]\n",
            "RF: Hyperopt estimated optimum {'criterion': 0, 'max_depth': 23.0, 'max_features': 13.0, 'min_samples_leaf': 2.0, 'min_samples_split': 6.0, 'n_estimators': 80.0}\n",
            "100%|██████████| 60/60 [01:24<00:00,  1.41s/trial, best loss: -0.6632533379972263]\n",
            "RF: Hyperopt estimated optimum {'criterion': 1, 'max_depth': 44.0, 'max_features': 15.0, 'min_samples_leaf': 1.0, 'min_samples_split': 2.0, 'n_estimators': 65.0}\n",
            "100%|██████████| 60/60 [01:55<00:00,  1.93s/trial, best loss: -0.6690169497777125]\n",
            "RF: Hyperopt estimated optimum {'criterion': 0, 'max_depth': 42.0, 'max_features': 14.0, 'min_samples_leaf': 1.0, 'min_samples_split': 3.0, 'n_estimators': 83.0}\n",
            "100%|██████████| 60/60 [01:46<00:00,  1.77s/trial, best loss: -0.6627002896733526]\n",
            "RF: Hyperopt estimated optimum {'criterion': 0, 'max_depth': 40.0, 'max_features': 24.0, 'min_samples_leaf': 2.0, 'min_samples_split': 4.0, 'n_estimators': 73.0}\n",
            "[{'criterion': 1, 'max_depth': 29.0, 'max_features': 33.0, 'min_samples_leaf': 3.0, 'min_samples_split': 5.0, 'n_estimators': 74.0}, {'criterion': 0, 'max_depth': 23.0, 'max_features': 13.0, 'min_samples_leaf': 2.0, 'min_samples_split': 6.0, 'n_estimators': 80.0}, {'criterion': 1, 'max_depth': 44.0, 'max_features': 15.0, 'min_samples_leaf': 1.0, 'min_samples_split': 2.0, 'n_estimators': 65.0}, {'criterion': 0, 'max_depth': 42.0, 'max_features': 14.0, 'min_samples_leaf': 1.0, 'min_samples_split': 3.0, 'n_estimators': 83.0}, {'criterion': 0, 'max_depth': 40.0, 'max_features': 24.0, 'min_samples_leaf': 2.0, 'min_samples_split': 4.0, 'n_estimators': 73.0}]\n"
          ]
        }
      ]
    },
    {
      "cell_type": "code",
      "source": [
        "criterion = {0: 'gini', 1: 'entropy'}\n",
        "trained_ET_models = []\n",
        "for model in best_ET_models:\n",
        "  trainedET = ExtraTreesClassifier(criterion = criterion[model['criterion']],max_depth = int(model['max_depth']), max_features = int(model['max_features']),\n",
        "                                    n_estimators = int(model['n_estimators']), min_samples_leaf = int(model['min_samples_leaf']), min_samples_split = int(model['min_samples_split'])\n",
        "                                    ).fit(Xtrain, ytrain)\n",
        "  y_pred = trainedET.predict(Xtest)\n",
        "  trained_ET_models.append(trainedET)\n",
        "\n",
        "  print(trainedET)\n",
        "\n",
        "  f1 = f1_score(ytest, y_pred)\n",
        "  mcc = matthews_corrcoef(ytest, y_pred)\n",
        "  recall = recall_score(ytest, y_pred)\n",
        "  precision = precision_score(ytest, y_pred)\n",
        "  accuracy = accuracy_score(ytest, y_pred)\n",
        "  auc = roc_auc_score(ytest, y_pred)\n",
        "  balanced_accuracy = balanced_accuracy_score(ytest, y_pred)\n",
        "\n",
        "  print(f\"F1 score: {f1}\")\n",
        "  print(f\"MCC: {mcc}\")\n",
        "  print(f\"Recall: {recall}\")\n",
        "  print(f\"Precision: {precision}\")\n",
        "  print(f\"Accuracy: {accuracy}\")\n",
        "  print(f\"AUC: {auc}\")\n",
        "  print(f\"Balanced Accuracy: {balanced_accuracy}\")"
      ],
      "metadata": {
        "colab": {
          "base_uri": "https://localhost:8080/"
        },
        "id": "N_41Taw7cyLl",
        "outputId": "f1ec2b86-b79e-4cbc-e547-0cc39dd58b78"
      },
      "execution_count": null,
      "outputs": [
        {
          "output_type": "stream",
          "name": "stdout",
          "text": [
            "ExtraTreesClassifier(bootstrap=False, ccp_alpha=0.0, class_weight=None,\n",
            "                     criterion='entropy', max_depth=40, max_features=12,\n",
            "                     max_leaf_nodes=None, max_samples=None,\n",
            "                     min_impurity_decrease=0.0, min_samples_leaf=1,\n",
            "                     min_samples_split=2, min_weight_fraction_leaf=0.0,\n",
            "                     n_estimators=72, n_jobs=None, oob_score=False,\n",
            "                     random_state=None, verbose=0, warm_start=False)\n",
            "F1 score: 0.8047919293820933\n",
            "MCC: 0.7229470348617137\n",
            "Recall: 0.7849938499384994\n",
            "Precision: 0.825614489003881\n",
            "Accuracy: 0.8841317365269461\n",
            "AUC: 0.8562408733285826\n",
            "Balanced Accuracy: 0.8562408733285827\n",
            "ExtraTreesClassifier(bootstrap=False, ccp_alpha=0.0, class_weight=None,\n",
            "                     criterion='entropy', max_depth=49, max_features=14,\n",
            "                     max_leaf_nodes=None, max_samples=None,\n",
            "                     min_impurity_decrease=0.0, min_samples_leaf=1,\n",
            "                     min_samples_split=10, min_weight_fraction_leaf=0.0,\n",
            "                     n_estimators=46, n_jobs=None, oob_score=False,\n",
            "                     random_state=None, verbose=0, warm_start=False)\n",
            "F1 score: 0.7981825066262779\n",
            "MCC: 0.7136903391606669\n",
            "Recall: 0.777859778597786\n",
            "Precision: 0.8195956454121306\n",
            "Accuracy: 0.880314371257485\n",
            "AUC: 0.8514904057055632\n",
            "Balanced Accuracy: 0.8514904057055632\n",
            "ExtraTreesClassifier(bootstrap=False, ccp_alpha=0.0, class_weight=None,\n",
            "                     criterion='entropy', max_depth=28, max_features=30,\n",
            "                     max_leaf_nodes=None, max_samples=None,\n",
            "                     min_impurity_decrease=0.0, min_samples_leaf=3,\n",
            "                     min_samples_split=5, min_weight_fraction_leaf=0.0,\n",
            "                     n_estimators=28, n_jobs=None, oob_score=False,\n",
            "                     random_state=None, verbose=0, warm_start=False)\n",
            "F1 score: 0.7925337369151217\n",
            "MCC: 0.7055300689242919\n",
            "Recall: 0.7729397293972939\n",
            "Precision: 0.8131469979296067\n",
            "Accuracy: 0.8768712574850299\n",
            "AUC: 0.8476317797067159\n",
            "Balanced Accuracy: 0.8476317797067159\n",
            "ExtraTreesClassifier(bootstrap=False, ccp_alpha=0.0, class_weight=None,\n",
            "                     criterion='entropy', max_depth=19, max_features=30,\n",
            "                     max_leaf_nodes=None, max_samples=None,\n",
            "                     min_impurity_decrease=0.0, min_samples_leaf=1,\n",
            "                     min_samples_split=9, min_weight_fraction_leaf=0.0,\n",
            "                     n_estimators=85, n_jobs=None, oob_score=False,\n",
            "                     random_state=None, verbose=0, warm_start=False)\n",
            "F1 score: 0.8021201413427562\n",
            "MCC: 0.7192693400358487\n",
            "Recall: 0.7817958179581795\n",
            "Precision: 0.8235294117647058\n",
            "Accuracy: 0.8826347305389222\n",
            "AUC: 0.8542653108080301\n",
            "Balanced Accuracy: 0.85426531080803\n",
            "ExtraTreesClassifier(bootstrap=False, ccp_alpha=0.0, class_weight=None,\n",
            "                     criterion='gini', max_depth=36, max_features=48,\n",
            "                     max_leaf_nodes=None, max_samples=None,\n",
            "                     min_impurity_decrease=0.0, min_samples_leaf=2,\n",
            "                     min_samples_split=6, min_weight_fraction_leaf=0.0,\n",
            "                     n_estimators=76, n_jobs=None, oob_score=False,\n",
            "                     random_state=None, verbose=0, warm_start=False)\n",
            "F1 score: 0.8040821469068917\n",
            "MCC: 0.7217958989727066\n",
            "Recall: 0.7849938499384994\n",
            "Precision: 0.8241219008264463\n",
            "Accuracy: 0.8836077844311377\n",
            "AUC: 0.85586432679819\n",
            "Balanced Accuracy: 0.85586432679819\n"
          ]
        }
      ]
    },
    {
      "cell_type": "markdown",
      "source": [
        "## KNN params"
      ],
      "metadata": {
        "id": "er2dOGmxtcpn"
      }
    },
    {
      "cell_type": "code",
      "source": [
        "space = {'n_neighbors': hp.choice('n_neighbors', np.arange(1, 10+1, dtype=int)), 'metric': hp.choice('metric',['euclidean', 'manhattan']), 'weights': hp.choice('weights',['uniform', 'distance'])}\n",
        "\n",
        "def objective(space):\n",
        "    model = KNeighborsClassifier(n_neighbors=space[\"n_neighbors\"], weights=space[\"weights\"], metric=space[\"metric\"])\n",
        "    accuracy = cross_val_score(model, Xtrain, ytrain, cv = 3).mean()\n",
        "    return {'loss': -accuracy, 'status': STATUS_OK }\n",
        "\n",
        "trials = Trials()\n",
        "best = fmin(fn= objective,\n",
        "            space= space,\n",
        "            algo= tpe.suggest,\n",
        "            max_evals = 10,\n",
        "            trials= trials)\n",
        "best"
      ],
      "metadata": {
        "id": "S3EiUR_CgFam",
        "colab": {
          "base_uri": "https://localhost:8080/"
        },
        "outputId": "3dca974e-18d6-4126-a868-539f695fba04"
      },
      "execution_count": null,
      "outputs": [
        {
          "output_type": "stream",
          "name": "stdout",
          "text": [
            "100%|██████████| 10/10 [00:14<00:00,  1.48s/trial, best loss: -0.8265500247274762]\n"
          ]
        },
        {
          "output_type": "execute_result",
          "data": {
            "text/plain": [
              "{'metric': 1, 'n_neighbors': 7, 'weights': 1}"
            ]
          },
          "metadata": {},
          "execution_count": 10
        }
      ]
    },
    {
      "cell_type": "code",
      "source": [
        "metric = {0: 'euclidean', 1: 'manhattan'}\n",
        "weights = {0: 'uniform', 1: 'distance'}\n",
        "n_neighbors = {0:1, 1:2, 2:3, 3:4, 4:5, 5:6, 6:7, 7:8, 8:9, 9:10}\n",
        "\n",
        "trainedKNN = KNeighborsClassifier(n_neighbors = n_neighbors[best['n_neighbors']], weights = weights[best['weights']], metric = metric[best['metric']]).fit(Xtrain, ytrain)\n",
        "y_pred = trainedKNN.predict(Xtest)\n",
        "\n",
        "f1 = f1_score(ytest, y_pred)\n",
        "mcc = matthews_corrcoef(ytest, y_pred)\n",
        "recall = recall_score(ytest, y_pred)\n",
        "precision = precision_score(ytest, y_pred)\n",
        "accuracy = accuracy_score(ytest, y_pred)\n",
        "auc = roc_auc_score(ytest, y_pred)\n",
        "balanced_accuracy = balanced_accuracy_score(ytest, y_pred)\n",
        "\n",
        "print(f\"F1 score: {f1}\")\n",
        "print(f\"MCC: {mcc}\")\n",
        "print(f\"Recall: {recall}\")\n",
        "print(f\"Precision: {precision}\")\n",
        "print(f\"Accuracy: {accuracy}\")\n",
        "print(f\"AUC: {auc}\")\n",
        "print(f\"Balanced Accuracy: {balanced_accuracy}\")"
      ],
      "metadata": {
        "colab": {
          "base_uri": "https://localhost:8080/"
        },
        "id": "1oYVXWJXslYQ",
        "outputId": "77931be5-7e26-4737-9284-9e65885178f4"
      },
      "execution_count": null,
      "outputs": [
        {
          "output_type": "stream",
          "name": "stdout",
          "text": [
            "F1 score: 0.7476379910492292\n",
            "MCC: 0.6390348674489124\n",
            "Recall: 0.7397293972939729\n",
            "Precision: 0.7557175169640613\n",
            "Accuracy: 0.8480538922155688\n",
            "AUC: 0.817578523283888\n",
            "Balanced Accuracy: 0.817578523283888\n"
          ]
        }
      ]
    },
    {
      "cell_type": "markdown",
      "source": [
        "## Decision trees params"
      ],
      "metadata": {
        "id": "j0YkFijtg47M"
      }
    },
    {
      "cell_type": "code",
      "source": [
        "# Define the objective function\n",
        "def objective(params):\n",
        "    params = {\n",
        "        \"max_depth\": int(params['max_depth']),\n",
        "        \"max_features\": int(params['max_features']),\n",
        "        \"min_samples_split\":int(params['min_samples_split']),\n",
        "        \"min_samples_leaf\":int(params['min_samples_leaf']),\n",
        "        \"criterion\":str(params['criterion'])\n",
        "    }\n",
        "    model = DecisionTreeClassifier( **params)\n",
        "    accuracy = cross_val_score(model, Xtrain, ytrain, scoring='matthews_corrcoef', cv=StratifiedKFold(n_splits=3)).mean()\n",
        "    return {'loss':-accuracy, 'status': STATUS_OK }\n",
        "\n",
        "# Define the hyperparameter configuration space\n",
        "space = {\n",
        "    \"max_depth\": hp.quniform('max_depth', 5, 50, 1),\n",
        "    \"max_features\":hp.quniform('max_features', 1, 64, 1),\n",
        "    \"min_samples_split\":hp.quniform('min_samples_split',2,11,1),\n",
        "    \"min_samples_leaf\":hp.quniform('min_samples_leaf',1,11,1),\n",
        "    \"criterion\":hp.choice('criterion',['gini','entropy'])\n",
        "}\n",
        "\n",
        "best = fmin(fn=objective,\n",
        "            space=space,\n",
        "            algo=tpe.suggest,\n",
        "            max_evals=20)\n",
        "print(\"DTs: Hyperopt estimated optimum {}\".format(best))"
      ],
      "metadata": {
        "colab": {
          "base_uri": "https://localhost:8080/"
        },
        "id": "OAX5mY4vg4U_",
        "outputId": "ab1ae7de-1ff7-4ea2-e137-d7b46110d822"
      },
      "execution_count": null,
      "outputs": [
        {
          "output_type": "stream",
          "name": "stdout",
          "text": [
            "100%|██████████| 20/20 [00:04<00:00,  4.92trial/s, best loss: -0.5568533679799742]\n",
            "DTs: Hyperopt estimated optimum {'criterion': 1, 'max_depth': 32.0, 'max_features': 62.0, 'min_samples_leaf': 4.0, 'min_samples_split': 5.0}\n"
          ]
        }
      ]
    },
    {
      "cell_type": "code",
      "source": [
        "criterion = {0: 'gini', 1: 'entropy'}\n",
        "trainedDT = DecisionTreeClassifier(criterion = criterion[best['criterion']],max_depth = int(best['max_depth']), max_features = int(best['max_features']),\n",
        "                                   min_samples_leaf = int(best['min_samples_leaf']), min_samples_split = int(best['min_samples_split'])).fit(Xtrain, ytrain)\n",
        "y_pred = trainedDT.predict(Xtest)\n",
        "\n",
        "f1 = f1_score(ytest, y_pred)\n",
        "mcc = matthews_corrcoef(ytest, y_pred)\n",
        "recall = recall_score(ytest, y_pred)\n",
        "precision = precision_score(ytest, y_pred)\n",
        "accuracy = accuracy_score(ytest, y_pred)\n",
        "auc = roc_auc_score(ytest, y_pred)\n",
        "balanced_accuracy = balanced_accuracy_score(ytest, y_pred)\n",
        "\n",
        "print(f\"F1 score: {f1}\")\n",
        "print(f\"MCC: {mcc}\")\n",
        "print(f\"Recall: {recall}\")\n",
        "print(f\"Precision: {precision}\")\n",
        "print(f\"Accuracy: {accuracy}\")\n",
        "print(f\"AUC: {auc}\")\n",
        "print(f\"Balanced Accuracy: {balanced_accuracy}\")"
      ],
      "metadata": {
        "colab": {
          "base_uri": "https://localhost:8080/"
        },
        "id": "hJrpURQ2g-GS",
        "outputId": "c7b8d961-9644-47ec-9ad7-ab302c311fb4"
      },
      "execution_count": null,
      "outputs": [
        {
          "output_type": "stream",
          "name": "stdout",
          "text": [
            "F1 score: 0.6843349508523081\n",
            "MCC: 0.5486441844282879\n",
            "Recall: 0.6765067650676507\n",
            "Precision: 0.6923464249748238\n",
            "Accuracy: 0.8101047904191617\n",
            "AUC: 0.7725191167995598\n",
            "Balanced Accuracy: 0.7725191167995596\n"
          ]
        }
      ]
    },
    {
      "cell_type": "markdown",
      "source": [
        "## Stacking classifier"
      ],
      "metadata": {
        "id": "I-7GrXffO_b1"
      }
    },
    {
      "cell_type": "code",
      "source": [
        "# cls1 = ('RF', trainedRF)\n",
        "# cls3 = ('ET-base', ExtraTreesClassifier())\n",
        "# cls4 = ('RF-base', RandomForestClassifier())\n",
        "predictors = []\n",
        "for i in range(len(trained_ET_models)):\n",
        "  model_name = 'ET' + str(i)\n",
        "  predictors.append((model_name, trained_ET_models[i]))\n",
        "\n",
        "clf = StackingClassifier(estimators=predictors, final_estimator=GradientBoostingClassifier(), cv='prefit')"
      ],
      "metadata": {
        "id": "3wVMb1S7sv4H"
      },
      "execution_count": null,
      "outputs": []
    },
    {
      "cell_type": "code",
      "source": [
        "trainedCLF = clf.fit(Xtrain, ytrain)\n",
        "\n",
        "y_pred = trainedCLF.predict(Xtest)\n",
        "\n",
        "f1 = f1_score(ytest, y_pred)\n",
        "mcc = matthews_corrcoef(ytest, y_pred)\n",
        "recall = recall_score(ytest, y_pred)\n",
        "precision = precision_score(ytest, y_pred)\n",
        "accuracy = accuracy_score(ytest, y_pred)\n",
        "auc = roc_auc_score(ytest, y_pred)\n",
        "balanced_accuracy = balanced_accuracy_score(ytest, y_pred)\n",
        "\n",
        "print(f\"F1 score: {f1}\")\n",
        "print(f\"MCC: {mcc}\")\n",
        "print(f\"Recall: {recall}\")\n",
        "print(f\"Precision: {precision}\")\n",
        "print(f\"Accuracy: {accuracy}\")\n",
        "print(f\"AUC: {auc}\")\n",
        "print(f\"Balanced Accuracy: {balanced_accuracy}\")"
      ],
      "metadata": {
        "id": "Ub9iBQhzgCM7",
        "colab": {
          "base_uri": "https://localhost:8080/"
        },
        "outputId": "efd3625a-65a3-4c94-829f-7c51a56a80da"
      },
      "execution_count": null,
      "outputs": [
        {
          "output_type": "stream",
          "name": "stdout",
          "text": [
            "F1 score: 0.8047919293820933\n",
            "MCC: 0.7229470348617137\n",
            "Recall: 0.7849938499384994\n",
            "Precision: 0.825614489003881\n",
            "Accuracy: 0.8841317365269461\n",
            "AUC: 0.8562408733285826\n",
            "Balanced Accuracy: 0.8562408733285827\n"
          ]
        }
      ]
    },
    {
      "cell_type": "markdown",
      "source": [
        "# Santos et. al paper"
      ],
      "metadata": {
        "id": "8_YnD4rqqb3t"
      }
    },
    {
      "cell_type": "code",
      "source": [
        "# !pip install pycaret\n",
        "from pycaret.classification import *\n",
        "from imblearn.ensemble import BalancedRandomForestClassifier\n",
        "\n",
        "s = setup(data=df, target='fe', feature_selection=True,\n",
        "          remove_multicollinearity=True,\n",
        "          multicollinearity_threshold=0.85,\n",
        "          feature_selection_method='classic',\n",
        "          fix_imbalance=True, fold=10, fix_imbalance_method='deep_forest')"
      ],
      "metadata": {
        "id": "uKgv2qm9q7KN",
        "colab": {
          "base_uri": "https://localhost:8080/",
          "height": 240
        },
        "outputId": "04210f01-2563-402d-8d1d-9858866a3d5c"
      },
      "execution_count": null,
      "outputs": [
        {
          "output_type": "error",
          "ename": "NameError",
          "evalue": "ignored",
          "traceback": [
            "\u001b[0;31m---------------------------------------------------------------------------\u001b[0m",
            "\u001b[0;31mNameError\u001b[0m                                 Traceback (most recent call last)",
            "\u001b[0;32m<ipython-input-4-fb01339217e1>\u001b[0m in \u001b[0;36m<cell line: 4>\u001b[0;34m()\u001b[0m\n\u001b[1;32m      2\u001b[0m \u001b[0;32mfrom\u001b[0m \u001b[0mpycaret\u001b[0m\u001b[0;34m.\u001b[0m\u001b[0mclassification\u001b[0m \u001b[0;32mimport\u001b[0m \u001b[0;34m*\u001b[0m\u001b[0;34m\u001b[0m\u001b[0;34m\u001b[0m\u001b[0m\n\u001b[1;32m      3\u001b[0m \u001b[0;34m\u001b[0m\u001b[0m\n\u001b[0;32m----> 4\u001b[0;31m s = setup(fix_imbalance_method='deep_forest',data=df, target='fe', feature_selection=True,\n\u001b[0m\u001b[1;32m      5\u001b[0m           \u001b[0mremove_multicollinearity\u001b[0m\u001b[0;34m=\u001b[0m\u001b[0;32mTrue\u001b[0m\u001b[0;34m,\u001b[0m\u001b[0;34m\u001b[0m\u001b[0;34m\u001b[0m\u001b[0m\n\u001b[1;32m      6\u001b[0m           \u001b[0mmulticollinearity_threshold\u001b[0m\u001b[0;34m=\u001b[0m\u001b[0;36m0.85\u001b[0m\u001b[0;34m,\u001b[0m\u001b[0;34m\u001b[0m\u001b[0;34m\u001b[0m\u001b[0m\n",
            "\u001b[0;31mNameError\u001b[0m: name 'df' is not defined"
          ]
        }
      ]
    },
    {
      "cell_type": "code",
      "source": [
        "top5_models = compare_models(n_select=5, sort='f1')"
      ],
      "metadata": {
        "colab": {
          "base_uri": "https://localhost:8080/",
          "height": 520,
          "referenced_widgets": [
            "f2ec3f19001a4928b0ad5ad856c7793a",
            "0a4cc83ca8494560857dbd433dc8818f",
            "8fa34375ebc440cdbe3c80154050f566",
            "1527bc0d0e814fd182c70848f4eb6b97",
            "35668a0a706b4625b97082844e0d32ec",
            "2f85969abe1b4f51a00f3c894a65029b",
            "2f3e61778dfc4fabb136fbd1579c65bf",
            "e43a7f9258e44015ba4e4d609c55e01c",
            "fa283c97d92d47a5950f4aa257b8c1b3",
            "710454fc45b643348dac27c762787f12",
            "2236620c9e0c4cd8aeaf36172543f3f4"
          ]
        },
        "id": "LwPcy5RVeIOF",
        "outputId": "b534dad4-a957-4511-d8ed-12f875f0454b"
      },
      "execution_count": null,
      "outputs": [
        {
          "output_type": "display_data",
          "data": {
            "text/plain": [
              "<IPython.core.display.HTML object>"
            ],
            "text/html": []
          },
          "metadata": {}
        },
        {
          "output_type": "display_data",
          "data": {
            "text/plain": [
              "<pandas.io.formats.style.Styler at 0x79657d2dd120>"
            ],
            "text/html": [
              "<style type=\"text/css\">\n",
              "#T_33ea7 th {\n",
              "  text-align: left;\n",
              "}\n",
              "#T_33ea7_row0_col0, #T_33ea7_row0_col4, #T_33ea7_row1_col0, #T_33ea7_row1_col1, #T_33ea7_row1_col2, #T_33ea7_row1_col3, #T_33ea7_row1_col4, #T_33ea7_row1_col5, #T_33ea7_row1_col6, #T_33ea7_row1_col7, #T_33ea7_row2_col0, #T_33ea7_row2_col1, #T_33ea7_row2_col2, #T_33ea7_row2_col3, #T_33ea7_row2_col4, #T_33ea7_row2_col5, #T_33ea7_row2_col6, #T_33ea7_row2_col7, #T_33ea7_row3_col0, #T_33ea7_row3_col1, #T_33ea7_row3_col2, #T_33ea7_row3_col3, #T_33ea7_row3_col4, #T_33ea7_row3_col5, #T_33ea7_row3_col6, #T_33ea7_row3_col7, #T_33ea7_row4_col0, #T_33ea7_row4_col1, #T_33ea7_row4_col2, #T_33ea7_row4_col3, #T_33ea7_row4_col4, #T_33ea7_row4_col5, #T_33ea7_row4_col6, #T_33ea7_row4_col7, #T_33ea7_row5_col0, #T_33ea7_row5_col1, #T_33ea7_row5_col2, #T_33ea7_row5_col3, #T_33ea7_row5_col4, #T_33ea7_row5_col5, #T_33ea7_row5_col6, #T_33ea7_row5_col7, #T_33ea7_row6_col0, #T_33ea7_row6_col1, #T_33ea7_row6_col2, #T_33ea7_row6_col3, #T_33ea7_row6_col4, #T_33ea7_row6_col5, #T_33ea7_row6_col6, #T_33ea7_row6_col7, #T_33ea7_row7_col0, #T_33ea7_row7_col1, #T_33ea7_row7_col2, #T_33ea7_row7_col3, #T_33ea7_row7_col4, #T_33ea7_row7_col5, #T_33ea7_row7_col6, #T_33ea7_row7_col7, #T_33ea7_row8_col0, #T_33ea7_row8_col1, #T_33ea7_row8_col2, #T_33ea7_row8_col3, #T_33ea7_row8_col4, #T_33ea7_row8_col5, #T_33ea7_row8_col6, #T_33ea7_row8_col7, #T_33ea7_row9_col0, #T_33ea7_row9_col1, #T_33ea7_row9_col2, #T_33ea7_row9_col3, #T_33ea7_row9_col4, #T_33ea7_row9_col5, #T_33ea7_row9_col6, #T_33ea7_row9_col7, #T_33ea7_row10_col0, #T_33ea7_row10_col1, #T_33ea7_row10_col2, #T_33ea7_row10_col3, #T_33ea7_row10_col4, #T_33ea7_row10_col5, #T_33ea7_row10_col6, #T_33ea7_row10_col7, #T_33ea7_row11_col0, #T_33ea7_row11_col1, #T_33ea7_row11_col2, #T_33ea7_row11_col3, #T_33ea7_row11_col4, #T_33ea7_row11_col5, #T_33ea7_row11_col6, #T_33ea7_row11_col7, #T_33ea7_row12_col0, #T_33ea7_row12_col1, #T_33ea7_row12_col2, #T_33ea7_row12_col3, #T_33ea7_row12_col4, #T_33ea7_row12_col5, #T_33ea7_row12_col6, #T_33ea7_row12_col7, #T_33ea7_row13_col0, #T_33ea7_row13_col1, #T_33ea7_row13_col2, #T_33ea7_row13_col3, #T_33ea7_row13_col5, #T_33ea7_row13_col6, #T_33ea7_row13_col7, #T_33ea7_row14_col0, #T_33ea7_row14_col1, #T_33ea7_row14_col2, #T_33ea7_row14_col3, #T_33ea7_row14_col4, #T_33ea7_row14_col5, #T_33ea7_row14_col6, #T_33ea7_row14_col7 {\n",
              "  text-align: left;\n",
              "}\n",
              "#T_33ea7_row0_col1, #T_33ea7_row0_col2, #T_33ea7_row0_col3, #T_33ea7_row0_col5, #T_33ea7_row0_col6, #T_33ea7_row0_col7, #T_33ea7_row13_col4 {\n",
              "  text-align: left;\n",
              "  background-color: yellow;\n",
              "}\n",
              "#T_33ea7_row0_col8, #T_33ea7_row1_col8, #T_33ea7_row2_col8, #T_33ea7_row3_col8, #T_33ea7_row4_col8, #T_33ea7_row5_col8, #T_33ea7_row6_col8, #T_33ea7_row7_col8, #T_33ea7_row8_col8, #T_33ea7_row9_col8, #T_33ea7_row10_col8, #T_33ea7_row11_col8, #T_33ea7_row12_col8, #T_33ea7_row14_col8 {\n",
              "  text-align: left;\n",
              "  background-color: lightgrey;\n",
              "}\n",
              "#T_33ea7_row13_col8 {\n",
              "  text-align: left;\n",
              "  background-color: yellow;\n",
              "  background-color: lightgrey;\n",
              "}\n",
              "</style>\n",
              "<table id=\"T_33ea7\" class=\"dataframe\">\n",
              "  <thead>\n",
              "    <tr>\n",
              "      <th class=\"blank level0\" >&nbsp;</th>\n",
              "      <th id=\"T_33ea7_level0_col0\" class=\"col_heading level0 col0\" >Model</th>\n",
              "      <th id=\"T_33ea7_level0_col1\" class=\"col_heading level0 col1\" >Accuracy</th>\n",
              "      <th id=\"T_33ea7_level0_col2\" class=\"col_heading level0 col2\" >AUC</th>\n",
              "      <th id=\"T_33ea7_level0_col3\" class=\"col_heading level0 col3\" >Recall</th>\n",
              "      <th id=\"T_33ea7_level0_col4\" class=\"col_heading level0 col4\" >Prec.</th>\n",
              "      <th id=\"T_33ea7_level0_col5\" class=\"col_heading level0 col5\" >F1</th>\n",
              "      <th id=\"T_33ea7_level0_col6\" class=\"col_heading level0 col6\" >Kappa</th>\n",
              "      <th id=\"T_33ea7_level0_col7\" class=\"col_heading level0 col7\" >MCC</th>\n",
              "      <th id=\"T_33ea7_level0_col8\" class=\"col_heading level0 col8\" >TT (Sec)</th>\n",
              "    </tr>\n",
              "  </thead>\n",
              "  <tbody>\n",
              "    <tr>\n",
              "      <th id=\"T_33ea7_level0_row0\" class=\"row_heading level0 row0\" >et</th>\n",
              "      <td id=\"T_33ea7_row0_col0\" class=\"data row0 col0\" >Extra Trees Classifier</td>\n",
              "      <td id=\"T_33ea7_row0_col1\" class=\"data row0 col1\" >0.8843</td>\n",
              "      <td id=\"T_33ea7_row0_col2\" class=\"data row0 col2\" >0.9451</td>\n",
              "      <td id=\"T_33ea7_row0_col3\" class=\"data row0 col3\" >0.7801</td>\n",
              "      <td id=\"T_33ea7_row0_col4\" class=\"data row0 col4\" >0.8298</td>\n",
              "      <td id=\"T_33ea7_row0_col5\" class=\"data row0 col5\" >0.8041</td>\n",
              "      <td id=\"T_33ea7_row0_col6\" class=\"data row0 col6\" >0.7222</td>\n",
              "      <td id=\"T_33ea7_row0_col7\" class=\"data row0 col7\" >0.7229</td>\n",
              "      <td id=\"T_33ea7_row0_col8\" class=\"data row0 col8\" >2.0770</td>\n",
              "    </tr>\n",
              "    <tr>\n",
              "      <th id=\"T_33ea7_level0_row1\" class=\"row_heading level0 row1\" >rf</th>\n",
              "      <td id=\"T_33ea7_row1_col0\" class=\"data row1 col0\" >Random Forest Classifier</td>\n",
              "      <td id=\"T_33ea7_row1_col1\" class=\"data row1 col1\" >0.8827</td>\n",
              "      <td id=\"T_33ea7_row1_col2\" class=\"data row1 col2\" >0.9425</td>\n",
              "      <td id=\"T_33ea7_row1_col3\" class=\"data row1 col3\" >0.7747</td>\n",
              "      <td id=\"T_33ea7_row1_col4\" class=\"data row1 col4\" >0.8289</td>\n",
              "      <td id=\"T_33ea7_row1_col5\" class=\"data row1 col5\" >0.8007</td>\n",
              "      <td id=\"T_33ea7_row1_col6\" class=\"data row1 col6\" >0.7178</td>\n",
              "      <td id=\"T_33ea7_row1_col7\" class=\"data row1 col7\" >0.7187</td>\n",
              "      <td id=\"T_33ea7_row1_col8\" class=\"data row1 col8\" >2.0930</td>\n",
              "    </tr>\n",
              "    <tr>\n",
              "      <th id=\"T_33ea7_level0_row2\" class=\"row_heading level0 row2\" >xgboost</th>\n",
              "      <td id=\"T_33ea7_row2_col0\" class=\"data row2 col0\" >Extreme Gradient Boosting</td>\n",
              "      <td id=\"T_33ea7_row2_col1\" class=\"data row2 col1\" >0.8677</td>\n",
              "      <td id=\"T_33ea7_row2_col2\" class=\"data row2 col2\" >0.9291</td>\n",
              "      <td id=\"T_33ea7_row2_col3\" class=\"data row2 col3\" >0.7525</td>\n",
              "      <td id=\"T_33ea7_row2_col4\" class=\"data row2 col4\" >0.8010</td>\n",
              "      <td id=\"T_33ea7_row2_col5\" class=\"data row2 col5\" >0.7757</td>\n",
              "      <td id=\"T_33ea7_row2_col6\" class=\"data row2 col6\" >0.6820</td>\n",
              "      <td id=\"T_33ea7_row2_col7\" class=\"data row2 col7\" >0.6829</td>\n",
              "      <td id=\"T_33ea7_row2_col8\" class=\"data row2 col8\" >1.2570</td>\n",
              "    </tr>\n",
              "    <tr>\n",
              "      <th id=\"T_33ea7_level0_row3\" class=\"row_heading level0 row3\" >lightgbm</th>\n",
              "      <td id=\"T_33ea7_row3_col0\" class=\"data row3 col0\" >Light Gradient Boosting Machine</td>\n",
              "      <td id=\"T_33ea7_row3_col1\" class=\"data row3 col1\" >0.8621</td>\n",
              "      <td id=\"T_33ea7_row3_col2\" class=\"data row3 col2\" >0.9285</td>\n",
              "      <td id=\"T_33ea7_row3_col3\" class=\"data row3 col3\" >0.7395</td>\n",
              "      <td id=\"T_33ea7_row3_col4\" class=\"data row3 col4\" >0.7939</td>\n",
              "      <td id=\"T_33ea7_row3_col5\" class=\"data row3 col5\" >0.7654</td>\n",
              "      <td id=\"T_33ea7_row3_col6\" class=\"data row3 col6\" >0.6680</td>\n",
              "      <td id=\"T_33ea7_row3_col7\" class=\"data row3 col7\" >0.6691</td>\n",
              "      <td id=\"T_33ea7_row3_col8\" class=\"data row3 col8\" >0.8590</td>\n",
              "    </tr>\n",
              "    <tr>\n",
              "      <th id=\"T_33ea7_level0_row4\" class=\"row_heading level0 row4\" >gbc</th>\n",
              "      <td id=\"T_33ea7_row4_col0\" class=\"data row4 col0\" >Gradient Boosting Classifier</td>\n",
              "      <td id=\"T_33ea7_row4_col1\" class=\"data row4 col1\" >0.8519</td>\n",
              "      <td id=\"T_33ea7_row4_col2\" class=\"data row4 col2\" >0.9159</td>\n",
              "      <td id=\"T_33ea7_row4_col3\" class=\"data row4 col3\" >0.7186</td>\n",
              "      <td id=\"T_33ea7_row4_col4\" class=\"data row4 col4\" >0.7781</td>\n",
              "      <td id=\"T_33ea7_row4_col5\" class=\"data row4 col5\" >0.7469</td>\n",
              "      <td id=\"T_33ea7_row4_col6\" class=\"data row4 col6\" >0.6425</td>\n",
              "      <td id=\"T_33ea7_row4_col7\" class=\"data row4 col7\" >0.6437</td>\n",
              "      <td id=\"T_33ea7_row4_col8\" class=\"data row4 col8\" >1.9630</td>\n",
              "    </tr>\n",
              "    <tr>\n",
              "      <th id=\"T_33ea7_level0_row5\" class=\"row_heading level0 row5\" >ada</th>\n",
              "      <td id=\"T_33ea7_row5_col0\" class=\"data row5 col0\" >Ada Boost Classifier</td>\n",
              "      <td id=\"T_33ea7_row5_col1\" class=\"data row5 col1\" >0.8415</td>\n",
              "      <td id=\"T_33ea7_row5_col2\" class=\"data row5 col2\" >0.9048</td>\n",
              "      <td id=\"T_33ea7_row5_col3\" class=\"data row5 col3\" >0.7107</td>\n",
              "      <td id=\"T_33ea7_row5_col4\" class=\"data row5 col4\" >0.7546</td>\n",
              "      <td id=\"T_33ea7_row5_col5\" class=\"data row5 col5\" >0.7318</td>\n",
              "      <td id=\"T_33ea7_row5_col6\" class=\"data row5 col6\" >0.6194</td>\n",
              "      <td id=\"T_33ea7_row5_col7\" class=\"data row5 col7\" >0.6202</td>\n",
              "      <td id=\"T_33ea7_row5_col8\" class=\"data row5 col8\" >1.3110</td>\n",
              "    </tr>\n",
              "    <tr>\n",
              "      <th id=\"T_33ea7_level0_row6\" class=\"row_heading level0 row6\" >knn</th>\n",
              "      <td id=\"T_33ea7_row6_col0\" class=\"data row6 col0\" >K Neighbors Classifier</td>\n",
              "      <td id=\"T_33ea7_row6_col1\" class=\"data row6 col1\" >0.8378</td>\n",
              "      <td id=\"T_33ea7_row6_col2\" class=\"data row6 col2\" >0.8862</td>\n",
              "      <td id=\"T_33ea7_row6_col3\" class=\"data row6 col3\" >0.7055</td>\n",
              "      <td id=\"T_33ea7_row6_col4\" class=\"data row6 col4\" >0.7473</td>\n",
              "      <td id=\"T_33ea7_row6_col5\" class=\"data row6 col5\" >0.7257</td>\n",
              "      <td id=\"T_33ea7_row6_col6\" class=\"data row6 col6\" >0.6107</td>\n",
              "      <td id=\"T_33ea7_row6_col7\" class=\"data row6 col7\" >0.6113</td>\n",
              "      <td id=\"T_33ea7_row6_col8\" class=\"data row6 col8\" >0.3390</td>\n",
              "    </tr>\n",
              "    <tr>\n",
              "      <th id=\"T_33ea7_level0_row7\" class=\"row_heading level0 row7\" >dt</th>\n",
              "      <td id=\"T_33ea7_row7_col0\" class=\"data row7 col0\" >Decision Tree Classifier</td>\n",
              "      <td id=\"T_33ea7_row7_col1\" class=\"data row7 col1\" >0.8266</td>\n",
              "      <td id=\"T_33ea7_row7_col2\" class=\"data row7 col2\" >0.7969</td>\n",
              "      <td id=\"T_33ea7_row7_col3\" class=\"data row7 col3\" >0.7208</td>\n",
              "      <td id=\"T_33ea7_row7_col4\" class=\"data row7 col4\" >0.7127</td>\n",
              "      <td id=\"T_33ea7_row7_col5\" class=\"data row7 col5\" >0.7166</td>\n",
              "      <td id=\"T_33ea7_row7_col6\" class=\"data row7 col6\" >0.5918</td>\n",
              "      <td id=\"T_33ea7_row7_col7\" class=\"data row7 col7\" >0.5918</td>\n",
              "      <td id=\"T_33ea7_row7_col8\" class=\"data row7 col8\" >0.3970</td>\n",
              "    </tr>\n",
              "    <tr>\n",
              "      <th id=\"T_33ea7_level0_row8\" class=\"row_heading level0 row8\" >svm</th>\n",
              "      <td id=\"T_33ea7_row8_col0\" class=\"data row8 col0\" >SVM - Linear Kernel</td>\n",
              "      <td id=\"T_33ea7_row8_col1\" class=\"data row8 col1\" >0.8197</td>\n",
              "      <td id=\"T_33ea7_row8_col2\" class=\"data row8 col2\" >0.0000</td>\n",
              "      <td id=\"T_33ea7_row8_col3\" class=\"data row8 col3\" >0.6084</td>\n",
              "      <td id=\"T_33ea7_row8_col4\" class=\"data row8 col4\" >0.7569</td>\n",
              "      <td id=\"T_33ea7_row8_col5\" class=\"data row8 col5\" >0.6697</td>\n",
              "      <td id=\"T_33ea7_row8_col6\" class=\"data row8 col6\" >0.5487</td>\n",
              "      <td id=\"T_33ea7_row8_col7\" class=\"data row8 col7\" >0.5579</td>\n",
              "      <td id=\"T_33ea7_row8_col8\" class=\"data row8 col8\" >0.5010</td>\n",
              "    </tr>\n",
              "    <tr>\n",
              "      <th id=\"T_33ea7_level0_row9\" class=\"row_heading level0 row9\" >lr</th>\n",
              "      <td id=\"T_33ea7_row9_col0\" class=\"data row9 col0\" >Logistic Regression</td>\n",
              "      <td id=\"T_33ea7_row9_col1\" class=\"data row9 col1\" >0.8259</td>\n",
              "      <td id=\"T_33ea7_row9_col2\" class=\"data row9 col2\" >0.8932</td>\n",
              "      <td id=\"T_33ea7_row9_col3\" class=\"data row9 col3\" >0.5604</td>\n",
              "      <td id=\"T_33ea7_row9_col4\" class=\"data row9 col4\" >0.8091</td>\n",
              "      <td id=\"T_33ea7_row9_col5\" class=\"data row9 col5\" >0.6617</td>\n",
              "      <td id=\"T_33ea7_row9_col6\" class=\"data row9 col6\" >0.5497</td>\n",
              "      <td id=\"T_33ea7_row9_col7\" class=\"data row9 col7\" >0.5668</td>\n",
              "      <td id=\"T_33ea7_row9_col8\" class=\"data row9 col8\" >1.1340</td>\n",
              "    </tr>\n",
              "    <tr>\n",
              "      <th id=\"T_33ea7_level0_row10\" class=\"row_heading level0 row10\" >nb</th>\n",
              "      <td id=\"T_33ea7_row10_col0\" class=\"data row10 col0\" >Naive Bayes</td>\n",
              "      <td id=\"T_33ea7_row10_col1\" class=\"data row10 col1\" >0.7832</td>\n",
              "      <td id=\"T_33ea7_row10_col2\" class=\"data row10 col2\" >0.8386</td>\n",
              "      <td id=\"T_33ea7_row10_col3\" class=\"data row10 col3\" >0.4494</td>\n",
              "      <td id=\"T_33ea7_row10_col4\" class=\"data row10 col4\" >0.7356</td>\n",
              "      <td id=\"T_33ea7_row10_col5\" class=\"data row10 col5\" >0.5575</td>\n",
              "      <td id=\"T_33ea7_row10_col6\" class=\"data row10 col6\" >0.4249</td>\n",
              "      <td id=\"T_33ea7_row10_col7\" class=\"data row10 col7\" >0.4478</td>\n",
              "      <td id=\"T_33ea7_row10_col8\" class=\"data row10 col8\" >0.2370</td>\n",
              "    </tr>\n",
              "    <tr>\n",
              "      <th id=\"T_33ea7_level0_row11\" class=\"row_heading level0 row11\" >qda</th>\n",
              "      <td id=\"T_33ea7_row11_col0\" class=\"data row11 col0\" >Quadratic Discriminant Analysis</td>\n",
              "      <td id=\"T_33ea7_row11_col1\" class=\"data row11 col1\" >0.7804</td>\n",
              "      <td id=\"T_33ea7_row11_col2\" class=\"data row11 col2\" >0.8337</td>\n",
              "      <td id=\"T_33ea7_row11_col3\" class=\"data row11 col3\" >0.4362</td>\n",
              "      <td id=\"T_33ea7_row11_col4\" class=\"data row11 col4\" >0.7358</td>\n",
              "      <td id=\"T_33ea7_row11_col5\" class=\"data row11 col5\" >0.5468</td>\n",
              "      <td id=\"T_33ea7_row11_col6\" class=\"data row11 col6\" >0.4143</td>\n",
              "      <td id=\"T_33ea7_row11_col7\" class=\"data row11 col7\" >0.4394</td>\n",
              "      <td id=\"T_33ea7_row11_col8\" class=\"data row11 col8\" >0.2260</td>\n",
              "    </tr>\n",
              "    <tr>\n",
              "      <th id=\"T_33ea7_level0_row12\" class=\"row_heading level0 row12\" >lda</th>\n",
              "      <td id=\"T_33ea7_row12_col0\" class=\"data row12 col0\" >Linear Discriminant Analysis</td>\n",
              "      <td id=\"T_33ea7_row12_col1\" class=\"data row12 col1\" >0.7858</td>\n",
              "      <td id=\"T_33ea7_row12_col2\" class=\"data row12 col2\" >0.8669</td>\n",
              "      <td id=\"T_33ea7_row12_col3\" class=\"data row12 col3\" >0.3454</td>\n",
              "      <td id=\"T_33ea7_row12_col4\" class=\"data row12 col4\" >0.8754</td>\n",
              "      <td id=\"T_33ea7_row12_col5\" class=\"data row12 col5\" >0.4946</td>\n",
              "      <td id=\"T_33ea7_row12_col6\" class=\"data row12 col6\" >0.3900</td>\n",
              "      <td id=\"T_33ea7_row12_col7\" class=\"data row12 col7\" >0.4582</td>\n",
              "      <td id=\"T_33ea7_row12_col8\" class=\"data row12 col8\" >0.2580</td>\n",
              "    </tr>\n",
              "    <tr>\n",
              "      <th id=\"T_33ea7_level0_row13\" class=\"row_heading level0 row13\" >ridge</th>\n",
              "      <td id=\"T_33ea7_row13_col0\" class=\"data row13 col0\" >Ridge Classifier</td>\n",
              "      <td id=\"T_33ea7_row13_col1\" class=\"data row13 col1\" >0.7801</td>\n",
              "      <td id=\"T_33ea7_row13_col2\" class=\"data row13 col2\" >0.0000</td>\n",
              "      <td id=\"T_33ea7_row13_col3\" class=\"data row13 col3\" >0.3225</td>\n",
              "      <td id=\"T_33ea7_row13_col4\" class=\"data row13 col4\" >0.8773</td>\n",
              "      <td id=\"T_33ea7_row13_col5\" class=\"data row13 col5\" >0.4708</td>\n",
              "      <td id=\"T_33ea7_row13_col6\" class=\"data row13 col6\" >0.3680</td>\n",
              "      <td id=\"T_33ea7_row13_col7\" class=\"data row13 col7\" >0.4417</td>\n",
              "      <td id=\"T_33ea7_row13_col8\" class=\"data row13 col8\" >0.1830</td>\n",
              "    </tr>\n",
              "    <tr>\n",
              "      <th id=\"T_33ea7_level0_row14\" class=\"row_heading level0 row14\" >dummy</th>\n",
              "      <td id=\"T_33ea7_row14_col0\" class=\"data row14 col0\" >Dummy Classifier</td>\n",
              "      <td id=\"T_33ea7_row14_col1\" class=\"data row14 col1\" >0.6957</td>\n",
              "      <td id=\"T_33ea7_row14_col2\" class=\"data row14 col2\" >0.5000</td>\n",
              "      <td id=\"T_33ea7_row14_col3\" class=\"data row14 col3\" >0.0000</td>\n",
              "      <td id=\"T_33ea7_row14_col4\" class=\"data row14 col4\" >0.0000</td>\n",
              "      <td id=\"T_33ea7_row14_col5\" class=\"data row14 col5\" >0.0000</td>\n",
              "      <td id=\"T_33ea7_row14_col6\" class=\"data row14 col6\" >0.0000</td>\n",
              "      <td id=\"T_33ea7_row14_col7\" class=\"data row14 col7\" >0.0000</td>\n",
              "      <td id=\"T_33ea7_row14_col8\" class=\"data row14 col8\" >0.2530</td>\n",
              "    </tr>\n",
              "  </tbody>\n",
              "</table>\n"
            ]
          },
          "metadata": {}
        },
        {
          "output_type": "display_data",
          "data": {
            "text/plain": [
              "Processing:   0%|          | 0/69 [00:00<?, ?it/s]"
            ],
            "application/vnd.jupyter.widget-view+json": {
              "version_major": 2,
              "version_minor": 0,
              "model_id": "f2ec3f19001a4928b0ad5ad856c7793a"
            }
          },
          "metadata": {
            "application/vnd.jupyter.widget-view+json": {
              "colab": {
                "custom_widget_manager": {
                  "url": "https://ssl.gstatic.com/colaboratory-static/widgets/colab-cdn-widget-manager/b3e629b1971e1542/manager.min.js"
                }
              }
            }
          }
        },
        {
          "output_type": "display_data",
          "data": {
            "text/plain": [
              "<IPython.core.display.HTML object>"
            ],
            "text/html": []
          },
          "metadata": {}
        }
      ]
    },
    {
      "cell_type": "code",
      "source": [],
      "metadata": {
        "id": "rOcxcfQTfVn6"
      },
      "execution_count": null,
      "outputs": []
    }
  ]
}